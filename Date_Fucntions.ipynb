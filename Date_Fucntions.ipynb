{
  "nbformat": 4,
  "nbformat_minor": 0,
  "metadata": {
    "colab": {
      "provenance": [],
      "authorship_tag": "ABX9TyOno/KyF7VEL1OCTrplFqX7",
      "include_colab_link": true
    },
    "kernelspec": {
      "name": "python3",
      "display_name": "Python 3"
    },
    "language_info": {
      "name": "python"
    }
  },
  "cells": [
    {
      "cell_type": "markdown",
      "metadata": {
        "id": "view-in-github",
        "colab_type": "text"
      },
      "source": [
        "<a href=\"https://colab.research.google.com/github/sankalp7500/Python_coding_end_to_end/blob/main/Date_Fucntions.ipynb\" target=\"_parent\"><img src=\"https://colab.research.google.com/assets/colab-badge.svg\" alt=\"Open In Colab\"/></a>"
      ]
    },
    {
      "cell_type": "code",
      "execution_count": 1,
      "metadata": {
        "id": "1_wC9mt28Ll0"
      },
      "outputs": [],
      "source": [
        "from datetime import datetime"
      ]
    },
    {
      "cell_type": "code",
      "source": [
        "# getting current date\n",
        "dt_nw = datetime.now()\n",
        "dt_nw"
      ],
      "metadata": {
        "colab": {
          "base_uri": "https://localhost:8080/"
        },
        "id": "-04XD0lBM1b3",
        "outputId": "83a00dc3-5ea4-4a4d-927d-60f4f3865892"
      },
      "execution_count": 2,
      "outputs": [
        {
          "output_type": "execute_result",
          "data": {
            "text/plain": [
              "datetime.datetime(2024, 5, 9, 8, 13, 40, 524323)"
            ]
          },
          "metadata": {},
          "execution_count": 2
        }
      ]
    },
    {
      "cell_type": "code",
      "source": [
        "# to get specific hour, minutes and days\n",
        "print('Year:',dt_nw.year)\n",
        "print('Day:',dt_nw.day)\n",
        "print('Month:',dt_nw.month)\n",
        "print('Hour:',dt_nw.hour)"
      ],
      "metadata": {
        "colab": {
          "base_uri": "https://localhost:8080/"
        },
        "id": "-qKbDz7HM5yT",
        "outputId": "179b3f8b-c21c-4f3d-fd0f-865ffb2b7132"
      },
      "execution_count": 3,
      "outputs": [
        {
          "output_type": "stream",
          "name": "stdout",
          "text": [
            "Year: 2024\n",
            "Day: 9\n",
            "Month: 5\n",
            "Hour: 8\n"
          ]
        }
      ]
    },
    {
      "cell_type": "code",
      "source": [
        "# to get week day for the current day\n",
        "print('Day of Week (number): ', dt_nw.weekday())"
      ],
      "metadata": {
        "colab": {
          "base_uri": "https://localhost:8080/"
        },
        "id": "LEFmJQ9TNNXH",
        "outputId": "84856208-09fe-4fa9-fc60-02eecc08d5e5"
      },
      "execution_count": 4,
      "outputs": [
        {
          "output_type": "stream",
          "name": "stdout",
          "text": [
            "Day of Week (number):  3\n"
          ]
        }
      ]
    },
    {
      "cell_type": "code",
      "source": [
        "# to get name of day from date\n",
        "import calendar\n",
        "print('Day of Week (name): ', calendar.day_name[dt_nw.weekday()])"
      ],
      "metadata": {
        "colab": {
          "base_uri": "https://localhost:8080/"
        },
        "id": "kHLHSy1qNrs2",
        "outputId": "33c013f3-5f58-4eeb-fd0d-bb3df14b519b"
      },
      "execution_count": 5,
      "outputs": [
        {
          "output_type": "stream",
          "name": "stdout",
          "text": [
            "Day of Week (name):  Thursday\n"
          ]
        }
      ]
    },
    {
      "cell_type": "code",
      "source": [
        "# creating datetime object in UTC timezone\n",
        "import pytz\n",
        "dt = datetime(2016, 7, 24, 12, 30, 45)\n",
        "dt"
      ],
      "metadata": {
        "colab": {
          "base_uri": "https://localhost:8080/"
        },
        "id": "KH-_cOjGN2pp",
        "outputId": "6bf87d09-40cc-4b4f-f7d6-2103754d3923"
      },
      "execution_count": 6,
      "outputs": [
        {
          "output_type": "execute_result",
          "data": {
            "text/plain": [
              "datetime.datetime(2016, 7, 24, 12, 30, 45)"
            ]
          },
          "metadata": {},
          "execution_count": 6
        }
      ]
    },
    {
      "cell_type": "code",
      "source": [
        "# subtracting dates\n",
        "from datetime import timedelta\n",
        "dt_1 = dt_nw - dt\n",
        "dt_1"
      ],
      "metadata": {
        "colab": {
          "base_uri": "https://localhost:8080/"
        },
        "id": "Yc2XjOHQN80h",
        "outputId": "1b245e95-eb69-4191-aafb-04f8545cc80d"
      },
      "execution_count": 11,
      "outputs": [
        {
          "output_type": "execute_result",
          "data": {
            "text/plain": [
              "datetime.timedelta(days=2845, seconds=70975, microseconds=524323)"
            ]
          },
          "metadata": {},
          "execution_count": 11
        }
      ]
    },
    {
      "cell_type": "code",
      "source": [],
      "metadata": {
        "id": "mt9AgfmvQEIv"
      },
      "execution_count": null,
      "outputs": []
    }
  ]
}